{
 "cells": [
  {
   "cell_type": "markdown",
   "metadata": {},
   "source": [
    "# Data Self Study"
   ]
  },
  {
   "cell_type": "markdown",
   "metadata": {},
   "source": [
    "## Import packages"
   ]
  },
  {
   "cell_type": "code",
   "execution_count": 4,
   "metadata": {},
   "outputs": [],
   "source": [
    "import pandas as pd\n",
    "import numpy as np\n",
    "import matplotlib.pyplot as plt\n",
    "import statsmodels.api as sm\n",
    "import seaborn as sns\n",
    "import datetime\n",
    "sns.set()"
   ]
  },
  {
   "cell_type": "markdown",
   "metadata": {},
   "source": [
    "## Initiate variables"
   ]
  },
  {
   "cell_type": "code",
   "execution_count": 5,
   "metadata": {},
   "outputs": [],
   "source": [
    "# SET THESE VARIABLES BEFORE RUNNING CELLS\n",
    "year = 2019 # year of dataset\n",
    "bool_concat_years = False # True: concatenate years\n",
    "bool_full_weeks = False # True: discard partial weeks"
   ]
  },
  {
   "cell_type": "code",
   "execution_count": 6,
   "metadata": {},
   "outputs": [],
   "source": [
    "mins_day = 1440 # number of minutes in a day\n",
    "# dictionary defining which activities belong to which group\n",
    "groups = {\n",
    "    'Humanities Hobbies' : ['art', 'learnlang', 'piano', 'read', 'writing', 'dogwalk'],\n",
    "    'Miscellaneous' : ['misc', 'sick', 'bedtime', 'liesure'],\n",
    "    'Math & Science Hobbies' : ['math', 'coding', 'dataentry', 'datasci'],\n",
    "    'Eating' : ['eat', 'snack'],\n",
    "    'Obligations' : ['errands', 'housework', 'study'],\n",
    "    'Gaming' : ['games', 'vidgames'],\n",
    "    'Work' : ['job', 'workmisc'],\n",
    "    'Entertainment' : ['outing', 'liveevent', 'tv', 'movie'],\n",
    "    'Sleep' : ['sleep'],\n",
    "    'Internet' : ['internet'],\n",
    "    'Social' : ['social'],\n",
    "    'Travel' : ['travel'],\n",
    "    'Hygiene' : ['hygiene'],\n",
    "    'Romance' : ['romance'],\n",
    "    'Exercise' : ['exercise']\n",
    "}"
   ]
  },
  {
   "cell_type": "markdown",
   "metadata": {},
   "source": [
    "## Functions"
   ]
  },
  {
   "cell_type": "code",
   "execution_count": 7,
   "metadata": {},
   "outputs": [],
   "source": [
    "# process_data: adds hour_sum and min_sum columns for time elapsed; adds weekday/datetime columns\n",
    "# param: dataframe (raw data with original columns)\n",
    "# returns dataframe\n",
    "\n",
    "def process_data(df):\n",
    "    # find time elapsed\n",
    "    df['hour_sum'] = df['hour'].diff()\n",
    "    df['min_sum'] = df['min'].diff()\n",
    "    # correct for times elapsed over midnight\n",
    "    df['hour_sum'] = np.where(df['hour_sum'] < 0, df['hour_sum'] + 24, df['hour_sum'])\n",
    "    df['hour_sum'] = np.where(df['min_sum'] < 0 , df['hour_sum'] - 1, df['hour_sum'])\n",
    "    df['min_sum'] = np.where(df['min_sum'] < 0, df['min_sum'] + 60, df['min_sum'])\n",
    "    # shift data so elapsed times are paired correctly\n",
    "    df[['hour_sum', 'min_sum']] = df[['hour_sum', 'min_sum']].shift(-1)\n",
    "    df = df.drop(data.index[-1])\n",
    "    # create datetime column and weekday column\n",
    "    df['datetime'] = pd.to_datetime(df['year']*10000 + df['month']*100 + df['day'], format='%Y%m%d')\n",
    "    df['weekday'] = df['datetime'].dt.weekday\n",
    "    return df"
   ]
  },
  {
   "cell_type": "code",
   "execution_count": 8,
   "metadata": {},
   "outputs": [],
   "source": [
    "# timestamps: adds a row for every hour not included in original data (new dataframe)\n",
    "# param: dataframe (raw data with original columns)\n",
    "# returns dataframe\n",
    "\n",
    "# TODO: optimize?\n",
    "\n",
    "def timestamps(df):\n",
    "    rows_extra = list()\n",
    "    for index, row in df[:len(df) - 1].iterrows():\n",
    "        # add missing hours\n",
    "        now_h = row['hour']\n",
    "        next_h = df.loc[index + 1]['hour']\n",
    "        # flow control accounts for times between months or days\n",
    "        if now_h > next_h:\n",
    "            next_h += 24\n",
    "        while now_h < next_h:\n",
    "            now_h += 1\n",
    "            if (now_h == next_h) and (df.loc[index + 1]['min'] == 0):\n",
    "                continue\n",
    "            if now_h >= 24:\n",
    "                if row['month'] != df.loc[index + 1]['month']:\n",
    "                    extra_row = [row['year'], df.loc[index + 1]['month'], df.loc[index + 1]['day'],\n",
    "                                 now_h % 24, 0, row['activity'], row['sub_activity']]\n",
    "                else:\n",
    "                    extra_row = [row['year'], row['month'], df.loc[index + 1]['day'], now_h % 24, 0,\n",
    "                                 row['activity'], row['sub_activity']]\n",
    "            else:\n",
    "                extra_row = [row['year'], row['month'], row['day'], now_h, 0, row['activity'], row['sub_activity']]\n",
    "            rows_extra.append(extra_row)\n",
    "    # create new dataframe from extra rows\n",
    "    data_extra = pd.DataFrame(rows_extra, columns=df.columns)\n",
    "    # append extra data to data_ts dataframe (ts stands for timestamps)\n",
    "    data_ts = df.append(data_extra)\n",
    "    data_ts = data_ts.sort_values(by=['month', 'day', 'hour', 'min'])\n",
    "    data_ts = data_ts.reset_index(drop=True)\n",
    "    return data_ts"
   ]
  },
  {
   "cell_type": "code",
   "execution_count": 9,
   "metadata": {},
   "outputs": [],
   "source": [
    "# subdiv_data: subdivide data given string 'month', 'week', or 'day'\n",
    "# params: dataframe (must include columns month, weekday, day), string\n",
    "# returns dataframe\n",
    "\n",
    "def subdiv_data(df, key):\n",
    "    df_copy = df.copy()\n",
    "    if key == 'month':\n",
    "        key_index = df_copy.index[df_copy['month'].diff() == 1].tolist()\n",
    "    elif key == 'week':\n",
    "        key_index = df_copy.index[df_copy['weekday'].diff() == -6].tolist()\n",
    "    elif key == 'day':\n",
    "        key_index = df_copy.index[(df_copy['day'].diff() == 1) | (df_copy['day'].diff() < 0)].tolist()\n",
    "    key_index = [0] + key_index + [len(df_copy)]\n",
    "    df_key = list()\n",
    "    i = 0\n",
    "    while i < len(key_index) - 1:\n",
    "        df_key.append(df_copy[key_index[i]:key_index[i+1]])\n",
    "        i += 1\n",
    "    return df_key\n",
    "\n",
    "# create list of grouped and summed df's from weekly df list\n",
    "#weeks_grouped_sum = list()\n",
    "#for item in data_full_weeks:\n",
    "#    weeks_grouped_sum.append(group_activities(sum_activities(item), groups))"
   ]
  },
  {
   "cell_type": "code",
   "execution_count": 10,
   "metadata": {},
   "outputs": [],
   "source": [
    "# sum_activities: sum up hours per activity\n",
    "# param: dataframe (must include columns activity, sub_activity, hour_sum, min_sum)\n",
    "# returns dataframe\n",
    "\n",
    "def sum_activities(df):\n",
    "    \n",
    "    # find hours per activity\n",
    "    activity_sum = df.groupby(['activity'])['hour_sum', 'min_sum'].sum()\n",
    "    sub_activity_sum = df.groupby(['sub_activity'])['hour_sum', 'min_sum'].sum()\n",
    "    all_activity_sum = activity_sum.add(sub_activity_sum, fill_value=0)\n",
    "    \n",
    "    # convert minutes into hours\n",
    "    all_activity_sum['hour_sum'] = all_activity_sum['hour_sum'] + all_activity_sum['min_sum'] // 60\n",
    "    all_activity_sum['min_sum'] = all_activity_sum['min_sum'] % 60\n",
    "    \n",
    "    # all_activity_sum_h for hour decimals\n",
    "    all_activity_sum_h = all_activity_sum\n",
    "    all_activity_sum_h['hour_sum'] = all_activity_sum_h['hour_sum'] + all_activity_sum_h['min_sum'] / 60\n",
    "    all_activity_sum_h = all_activity_sum_h.drop(['min_sum'], axis=1)\n",
    "    all_activity_sum_h = all_activity_sum_h.sort_values('hour_sum', ascending=False)\n",
    "    \n",
    "    return all_activity_sum_h"
   ]
  },
  {
   "cell_type": "code",
   "execution_count": 11,
   "metadata": {},
   "outputs": [],
   "source": [
    "# group_activities: merge activities and their data into groups (meant for use with summed data)\n",
    "# params: dataframe (must include column hour_sum), dictionary\n",
    "# returns dataframe\n",
    "\n",
    "def group_activities(df):\n",
    "    \n",
    "    # add activity with value 0 if not in dataframe\n",
    "    for key in groups:\n",
    "        for item in groups[key]:\n",
    "            if not item in df.index:\n",
    "                df.loc[item] = 0\n",
    "                \n",
    "    # create new df for grouped activites\n",
    "    df_grouped = df.copy()\n",
    "    \n",
    "    # group up activities\n",
    "    for key in groups:\n",
    "        df_grouped.loc[groups[key][0]] = df_grouped.loc[groups[key]].sum()\n",
    "        df_grouped.drop(groups[key][1:], inplace=True)\n",
    "        \n",
    "    # rename activities\n",
    "    for key in groups:\n",
    "        df_grouped.rename(index={groups[key][0] : key}, inplace=True)\n",
    "        \n",
    "    # sort descending\n",
    "    df_grouped = df_grouped.sort_values('hour_sum', ascending=False)\n",
    "    \n",
    "    return df_grouped"
   ]
  },
  {
   "cell_type": "code",
   "execution_count": 12,
   "metadata": {},
   "outputs": [],
   "source": [
    "# plot_activity_hrs: plots total hours per activity\n",
    "# params: dataframe (2 columns)\n",
    "\n",
    "def plot_activity_hrs(df):\n",
    "    vis = df.plot(kind='bar', title =\"Total Hours per Activity\", figsize=(15, 10), fontsize=12)\n",
    "    vis.set_xlabel(\"Activity\", fontsize=12)\n",
    "    vis.set_ylabel(\"Hours\", fontsize=12)\n",
    "    plt.show()"
   ]
  },
  {
   "cell_type": "code",
   "execution_count": 13,
   "metadata": {},
   "outputs": [],
   "source": [
    "# plot_timely_avg: plots average hours of given activity per time interval\n",
    "# params: string (name of activity), string (name of time interval: month or week),\n",
    "# time_list (list containing dataframes split up by time interval)\n",
    "\n",
    "# TODO change x-axis to actual dates\n",
    "# TODO add full weeks param\n",
    "# TODO optimize! idea: use index to grab from both grouped list and regular list?\n",
    "\n",
    "def plot_timely_avg(activity, time):\n",
    "    if time == 'month':\n",
    "        time_list = data_months\n",
    "    elif time == 'week':\n",
    "        time_list = data_weeks\n",
    "    elif time == 'day':\n",
    "        time_list = data_days\n",
    "    x = list()\n",
    "    y = list()\n",
    "    for index, item in enumerate(time_list):\n",
    "        span = item['day'].nunique()\n",
    "        x.append(item.iloc[0]['datetime'])\n",
    "        item_grouped = group_activities(sum_activities(item)) #this line is processing heavy!!!\n",
    "        y.append(item_grouped.loc[activity]['hour_sum'] / span) \n",
    "    # plot\n",
    "    plt.figure(figsize=(15,10))\n",
    "    plt.xticks(rotation=90)\n",
    "    plt.bar(x,y, align='center', alpha=0.5)\n",
    "    plt.xlabel(time.capitalize())\n",
    "    plt.ylabel('Average Hours')\n",
    "    plt.title(activity.capitalize())\n",
    "    plt.show()"
   ]
  },
  {
   "cell_type": "code",
   "execution_count": 14,
   "metadata": {},
   "outputs": [],
   "source": [
    "# activity_per_time: plot number of activity per time interval\n",
    "# params: string (name of activity), time_list (list containing dataframes split up by time interval),\n",
    "# time (name of time interval)\n",
    "\n",
    "# TODO change x-axis to actual dates\n",
    "# TODO add full weeks param\n",
    "\n",
    "def plot_activity_per_time(activity, time):\n",
    "    if time == 'month':\n",
    "        time_list = data_months\n",
    "    elif time == 'week':\n",
    "        time_list = data_weeks\n",
    "    elif time == 'day':\n",
    "        time_list = data_days\n",
    "    x = list()\n",
    "    y = list()\n",
    "    for index, item in enumerate(time_list):\n",
    "        x.append(index + 1)\n",
    "        y.append(len(item[item['activity'] == activity]))\n",
    "    plt.figure(figsize=(20,10))\n",
    "    plt.bar(x, y, align='center', alpha=0.5)\n",
    "    plt.xlabel(time.capitalize())\n",
    "    plt.ylabel(activity.capitalize() + ' count')\n",
    "    plt.title(activity.capitalize() + ' count per ' + time)\n",
    "    plt.show()"
   ]
  },
  {
   "cell_type": "code",
   "execution_count": 15,
   "metadata": {},
   "outputs": [],
   "source": [
    "# find_avg_time: find average time of dataframe\n",
    "# params: dataframe (must include columns hour, min)\n",
    "\n",
    "def find_avg_time(df):\n",
    "    df_sleep_data = df.copy()\n",
    "    df_sleep_data['radians'] = ((df_sleep_data['hour'] * 60 + df_sleep_data['min']) * np.pi * 2) / mins_day\n",
    "    cos_sum = np.cos(df_sleep_data['radians']).sum()\n",
    "    sin_sum = np.sin(df_sleep_data['radians']).sum()\n",
    "    avg_time_rad = np.arctan2(sin_sum, cos_sum)\n",
    "    avg_time_mins = (avg_time_rad * mins_day) / (np.pi * 2)\n",
    "    avg_time_h = int(avg_time_mins // 60)\n",
    "    avg_time_m = int(np.rint(avg_time_mins % 60))\n",
    "    print(\"Average time: \" + str(avg_time_h) + \":\" + str(avg_time_m))"
   ]
  },
  {
   "cell_type": "code",
   "execution_count": 16,
   "metadata": {},
   "outputs": [],
   "source": [
    "# common_act: find most common activity per hour interval\n",
    "# param: dataframe (must be timestamps df)\n",
    "# returns dataframe\n",
    "\n",
    "def common_act(df):\n",
    "    max_act_by_h = list()\n",
    "    i = 0\n",
    "    while i < 24:\n",
    "        act_freq = df[(df['hour'] >= i) & (df['hour'] < i + 1)].groupby(['activity']).count()\n",
    "        max_act_by_h.append(act_freq.idxmax()['year'])\n",
    "        i += 1\n",
    "    common_df = pd.DataFrame(max_act_by_h, columns=['activity'])\n",
    "    return common_df"
   ]
  },
  {
   "cell_type": "markdown",
   "metadata": {},
   "source": [
    "## Load, process, and verify data"
   ]
  },
  {
   "cell_type": "code",
   "execution_count": 17,
   "metadata": {},
   "outputs": [],
   "source": [
    "# load raw data\n",
    "data = pd.read_csv('My_Data_' + str(year) + '.csv')"
   ]
  },
  {
   "cell_type": "code",
   "execution_count": 18,
   "metadata": {},
   "outputs": [],
   "source": [
    "data_ts = timestamps(data)"
   ]
  },
  {
   "cell_type": "code",
   "execution_count": 19,
   "metadata": {},
   "outputs": [],
   "source": [
    "# add hour_sum, min_sum, datetime, weekday columns\n",
    "data = process_data(data)"
   ]
  },
  {
   "cell_type": "code",
   "execution_count": 20,
   "metadata": {},
   "outputs": [],
   "source": [
    "# subdivide data\n",
    "data_months = subdiv_data(data, 'month')\n",
    "data_weeks = subdiv_data(data, 'week')\n",
    "data_days = subdiv_data(data, 'day')\n",
    "\n",
    "# exclude partial weeks\n",
    "data_full_weeks = data_weeks[1:len(data_weeks)-1]"
   ]
  },
  {
   "cell_type": "code",
   "execution_count": 21,
   "metadata": {},
   "outputs": [
    {
     "data": {
      "text/html": [
       "<div>\n",
       "<style scoped>\n",
       "    .dataframe tbody tr th:only-of-type {\n",
       "        vertical-align: middle;\n",
       "    }\n",
       "\n",
       "    .dataframe tbody tr th {\n",
       "        vertical-align: top;\n",
       "    }\n",
       "\n",
       "    .dataframe thead th {\n",
       "        text-align: right;\n",
       "    }\n",
       "</style>\n",
       "<table border=\"1\" class=\"dataframe\">\n",
       "  <thead>\n",
       "    <tr style=\"text-align: right;\">\n",
       "      <th></th>\n",
       "      <th>year</th>\n",
       "      <th>month</th>\n",
       "      <th>day</th>\n",
       "      <th>hour</th>\n",
       "      <th>min</th>\n",
       "      <th>activity</th>\n",
       "      <th>sub_activity</th>\n",
       "      <th>hour_sum</th>\n",
       "      <th>min_sum</th>\n",
       "      <th>datetime</th>\n",
       "      <th>weekday</th>\n",
       "    </tr>\n",
       "  </thead>\n",
       "  <tbody>\n",
       "    <tr>\n",
       "      <th>1018</th>\n",
       "      <td>2019</td>\n",
       "      <td>3</td>\n",
       "      <td>9</td>\n",
       "      <td>15</td>\n",
       "      <td>45</td>\n",
       "      <td>social</td>\n",
       "      <td>eat</td>\n",
       "      <td>8.0</td>\n",
       "      <td>10.0</td>\n",
       "      <td>2019-03-09</td>\n",
       "      <td>5</td>\n",
       "    </tr>\n",
       "  </tbody>\n",
       "</table>\n",
       "</div>"
      ],
      "text/plain": [
       "      year  month  day  hour  min activity sub_activity  hour_sum  min_sum  \\\n",
       "1018  2019      3    9    15   45   social          eat       8.0     10.0   \n",
       "\n",
       "       datetime  weekday  \n",
       "1018 2019-03-09        5  "
      ]
     },
     "execution_count": 21,
     "metadata": {},
     "output_type": "execute_result"
    }
   ],
   "source": [
    "# verify accuracy of entered data\n",
    "# TODO automate this later\n",
    "\n",
    "# note: data incorrectly entered as 12 hr clock time will come in \"large pairs\"\n",
    "# ie two adjacent activities that both have times > 12 hrs\n",
    "\n",
    "# visual check\n",
    "data[(data['hour_sum'] > 7) & (data['activity'] != 'sleep')]"
   ]
  },
  {
   "cell_type": "markdown",
   "metadata": {},
   "source": [
    "## Analyze data"
   ]
  },
  {
   "cell_type": "markdown",
   "metadata": {},
   "source": [
    "### Total hours by activity"
   ]
  },
  {
   "cell_type": "code",
   "execution_count": 22,
   "metadata": {},
   "outputs": [
    {
     "data": {
      "image/png": "[encoded data removed]",
      "text/plain": [
       "<Figure size 1080x720 with 1 Axes>"
      ]
     },
     "metadata": {},
     "output_type": "display_data"
    }
   ],
   "source": [
    "activity_sum = sum_activities(data)\n",
    "plot_activity_hrs(activity_sum)"
   ]
  },
  {
   "cell_type": "markdown",
   "metadata": {},
   "source": [
    "### Total hours by activity (grouped)"
   ]
  },
  {
   "cell_type": "code",
   "execution_count": 23,
   "metadata": {},
   "outputs": [
    {
     "data": {
      "image/png": "[encoded data removed]",
      "text/plain": [
       "<Figure size 1080x720 with 1 Axes>"
      ]
     },
     "metadata": {},
     "output_type": "display_data"
    }
   ],
   "source": [
    "activity_grouped = group_activities(activity_sum)\n",
    "plot_activity_hrs(activity_grouped)"
   ]
  },
  {
   "cell_type": "markdown",
   "metadata": {},
   "source": [
    "### Average activity hours per time interval"
   ]
  },
  {
   "cell_type": "code",
   "execution_count": 24,
   "metadata": {},
   "outputs": [
    {
     "data": {
      "text/html": [
       "<div>\n",
       "<style scoped>\n",
       "    .dataframe tbody tr th:only-of-type {\n",
       "        vertical-align: middle;\n",
       "    }\n",
       "\n",
       "    .dataframe tbody tr th {\n",
       "        vertical-align: top;\n",
       "    }\n",
       "\n",
       "    .dataframe thead th {\n",
       "        text-align: right;\n",
       "    }\n",
       "</style>\n",
       "<table border=\"1\" class=\"dataframe\">\n",
       "  <thead>\n",
       "    <tr style=\"text-align: right;\">\n",
       "      <th></th>\n",
       "      <th>hour_sum</th>\n",
       "    </tr>\n",
       "  </thead>\n",
       "  <tbody>\n",
       "    <tr>\n",
       "      <th>Sleep</th>\n",
       "      <td>7.850595</td>\n",
       "    </tr>\n",
       "    <tr>\n",
       "      <th>Work</th>\n",
       "      <td>3.475670</td>\n",
       "    </tr>\n",
       "    <tr>\n",
       "      <th>Eating</th>\n",
       "      <td>2.596503</td>\n",
       "    </tr>\n",
       "    <tr>\n",
       "      <th>Social</th>\n",
       "      <td>2.333036</td>\n",
       "    </tr>\n",
       "    <tr>\n",
       "      <th>Internet</th>\n",
       "      <td>1.985789</td>\n",
       "    </tr>\n",
       "    <tr>\n",
       "      <th>Gaming</th>\n",
       "      <td>1.315402</td>\n",
       "    </tr>\n",
       "    <tr>\n",
       "      <th>Obligations</th>\n",
       "      <td>1.225595</td>\n",
       "    </tr>\n",
       "    <tr>\n",
       "      <th>Miscellaneous</th>\n",
       "      <td>1.198363</td>\n",
       "    </tr>\n",
       "    <tr>\n",
       "      <th>Romance</th>\n",
       "      <td>0.961384</td>\n",
       "    </tr>\n",
       "    <tr>\n",
       "      <th>Entertainment</th>\n",
       "      <td>0.846205</td>\n",
       "    </tr>\n",
       "    <tr>\n",
       "      <th>Hygiene</th>\n",
       "      <td>0.618155</td>\n",
       "    </tr>\n",
       "    <tr>\n",
       "      <th>Travel</th>\n",
       "      <td>0.613467</td>\n",
       "    </tr>\n",
       "    <tr>\n",
       "      <th>Math &amp; Science Hobbies</th>\n",
       "      <td>0.560714</td>\n",
       "    </tr>\n",
       "    <tr>\n",
       "      <th>Humanities Hobbies</th>\n",
       "      <td>0.515923</td>\n",
       "    </tr>\n",
       "    <tr>\n",
       "      <th>Exercise</th>\n",
       "      <td>0.303720</td>\n",
       "    </tr>\n",
       "  </tbody>\n",
       "</table>\n",
       "</div>"
      ],
      "text/plain": [
       "                        hour_sum\n",
       "Sleep                   7.850595\n",
       "Work                    3.475670\n",
       "Eating                  2.596503\n",
       "Social                  2.333036\n",
       "Internet                1.985789\n",
       "Gaming                  1.315402\n",
       "Obligations             1.225595\n",
       "Miscellaneous           1.198363\n",
       "Romance                 0.961384\n",
       "Entertainment           0.846205\n",
       "Hygiene                 0.618155\n",
       "Travel                  0.613467\n",
       "Math & Science Hobbies  0.560714\n",
       "Humanities Hobbies      0.515923\n",
       "Exercise                0.303720"
      ]
     },
     "execution_count": 24,
     "metadata": {},
     "output_type": "execute_result"
    }
   ],
   "source": [
    "# Average hours per day for all activities\n",
    "activity_grouped / len(data_days)"
   ]
  },
  {
   "cell_type": "code",
   "execution_count": 25,
   "metadata": {},
   "outputs": [
    {
     "data": {
      "image/png": "[encoded data removed]",
      "text/plain": [
       "<Figure size 1080x720 with 1 Axes>"
      ]
     },
     "metadata": {},
     "output_type": "display_data"
    }
   ],
   "source": [
    "# average internet hours per week\n",
    "plot_timely_avg('Internet', 'week')"
   ]
  },
  {
   "cell_type": "code",
   "execution_count": 26,
   "metadata": {},
   "outputs": [
    {
     "data": {
      "image/png": "[encoded data removed]",
      "text/plain": [
       "<Figure size 1080x720 with 1 Axes>"
      ]
     },
     "metadata": {},
     "output_type": "display_data"
    }
   ],
   "source": [
    "# average sleep hours per week\n",
    "plot_timely_avg('Sleep', 'week')"
   ]
  },
  {
   "cell_type": "code",
   "execution_count": 27,
   "metadata": {},
   "outputs": [
    {
     "data": {
      "image/png": "[encoded data removed]",
      "text/plain": [
       "<Figure size 1080x720 with 1 Axes>"
      ]
     },
     "metadata": {},
     "output_type": "display_data"
    }
   ],
   "source": [
    "# average gaming hrs per week\n",
    "plot_timely_avg('Gaming', 'week')"
   ]
  },
  {
   "cell_type": "code",
   "execution_count": 28,
   "metadata": {},
   "outputs": [
    {
     "data": {
      "image/png": "[encoded data removed]",
      "text/plain": [
       "<Figure size 1080x720 with 1 Axes>"
      ]
     },
     "metadata": {},
     "output_type": "display_data"
    }
   ],
   "source": [
    "# average exercise hrs per week\n",
    "plot_timely_avg('Exercise', 'week')"
   ]
  },
  {
   "cell_type": "code",
   "execution_count": 29,
   "metadata": {},
   "outputs": [
    {
     "data": {
      "image/png": "[encoded data removed]",
      "text/plain": [
       "<Figure size 1080x720 with 1 Axes>"
      ]
     },
     "metadata": {},
     "output_type": "display_data"
    }
   ],
   "source": [
    "# average romance hrs per day by month\n",
    "plot_timely_avg('Romance', 'month')"
   ]
  },
  {
   "cell_type": "markdown",
   "metadata": {},
   "source": [
    "### Number of activity per time interval"
   ]
  },
  {
   "cell_type": "code",
   "execution_count": 31,
   "metadata": {},
   "outputs": [
    {
     "data": {
      "image/png": "[encoded data removed]",
      "text/plain": [
       "<Figure size 1440x720 with 1 Axes>"
      ]
     },
     "metadata": {},
     "output_type": "display_data"
    }
   ],
   "source": [
    "# plot showers per week\n",
    "plot_activity_per_time('hygiene', 'week')"
   ]
  },
  {
   "cell_type": "code",
   "execution_count": 32,
   "metadata": {},
   "outputs": [
    {
     "data": {
      "image/png": "[encoded data removed]",
      "text/plain": [
       "<Figure size 1440x720 with 1 Axes>"
      ]
     },
     "metadata": {},
     "output_type": "display_data"
    }
   ],
   "source": [
    "# plot meals per day\n",
    "plot_activity_per_time('eat', 'day')"
   ]
  },
  {
   "cell_type": "code",
   "execution_count": 33,
   "metadata": {},
   "outputs": [
    {
     "data": {
      "text/plain": [
       "2.142857142857143"
      ]
     },
     "execution_count": 33,
     "metadata": {},
     "output_type": "execute_result"
    }
   ],
   "source": [
    "# Average meals per day\n",
    "(len(data[data['activity'] == 'eat']) + len(data[data['activity'] == 'snack'])/2) / len(data_days)"
   ]
  },
  {
   "cell_type": "markdown",
   "metadata": {},
   "source": [
    "### Average bedtime and wake time"
   ]
  },
  {
   "cell_type": "code",
   "execution_count": 34,
   "metadata": {},
   "outputs": [],
   "source": [
    "# subdivide into df's with info about sleep and post-sleep (wake) times\n",
    "sleep_data = data[['hour', 'min','activity']][data['activity'] == 'sleep']\n",
    "sleep_index = list(np.where(data['activity'] == 'sleep'))\n",
    "wake_index = [item + 1 for item in sleep_index]\n",
    "wake_data = data.iloc[wake_index[0]]"
   ]
  },
  {
   "cell_type": "code",
   "execution_count": 35,
   "metadata": {},
   "outputs": [
    {
     "name": "stdout",
     "output_type": "stream",
     "text": [
      "Average time: 1:20\n"
     ]
    }
   ],
   "source": [
    "# Average bed time\n",
    "find_avg_time(sleep_data)"
   ]
  },
  {
   "cell_type": "code",
   "execution_count": 36,
   "metadata": {},
   "outputs": [
    {
     "name": "stdout",
     "output_type": "stream",
     "text": [
      "Average time: 8:33\n"
     ]
    }
   ],
   "source": [
    "# Average wake time\n",
    "find_avg_time(wake_data)"
   ]
  },
  {
   "cell_type": "markdown",
   "metadata": {},
   "source": [
    "### Most common activity by time of day"
   ]
  },
  {
   "cell_type": "code",
   "execution_count": 37,
   "metadata": {},
   "outputs": [
    {
     "data": {
      "text/html": [
       "<div>\n",
       "<style scoped>\n",
       "    .dataframe tbody tr th:only-of-type {\n",
       "        vertical-align: middle;\n",
       "    }\n",
       "\n",
       "    .dataframe tbody tr th {\n",
       "        vertical-align: top;\n",
       "    }\n",
       "\n",
       "    .dataframe thead th {\n",
       "        text-align: right;\n",
       "    }\n",
       "</style>\n",
       "<table border=\"1\" class=\"dataframe\">\n",
       "  <thead>\n",
       "    <tr style=\"text-align: right;\">\n",
       "      <th></th>\n",
       "      <th>activity</th>\n",
       "    </tr>\n",
       "  </thead>\n",
       "  <tbody>\n",
       "    <tr>\n",
       "      <th>0</th>\n",
       "      <td>sleep</td>\n",
       "    </tr>\n",
       "    <tr>\n",
       "      <th>1</th>\n",
       "      <td>sleep</td>\n",
       "    </tr>\n",
       "    <tr>\n",
       "      <th>2</th>\n",
       "      <td>sleep</td>\n",
       "    </tr>\n",
       "    <tr>\n",
       "      <th>3</th>\n",
       "      <td>sleep</td>\n",
       "    </tr>\n",
       "    <tr>\n",
       "      <th>4</th>\n",
       "      <td>sleep</td>\n",
       "    </tr>\n",
       "    <tr>\n",
       "      <th>5</th>\n",
       "      <td>sleep</td>\n",
       "    </tr>\n",
       "    <tr>\n",
       "      <th>6</th>\n",
       "      <td>sleep</td>\n",
       "    </tr>\n",
       "    <tr>\n",
       "      <th>7</th>\n",
       "      <td>sleep</td>\n",
       "    </tr>\n",
       "    <tr>\n",
       "      <th>8</th>\n",
       "      <td>sleep</td>\n",
       "    </tr>\n",
       "    <tr>\n",
       "      <th>9</th>\n",
       "      <td>internet</td>\n",
       "    </tr>\n",
       "    <tr>\n",
       "      <th>10</th>\n",
       "      <td>internet</td>\n",
       "    </tr>\n",
       "    <tr>\n",
       "      <th>11</th>\n",
       "      <td>hygiene</td>\n",
       "    </tr>\n",
       "    <tr>\n",
       "      <th>12</th>\n",
       "      <td>job</td>\n",
       "    </tr>\n",
       "    <tr>\n",
       "      <th>13</th>\n",
       "      <td>job</td>\n",
       "    </tr>\n",
       "    <tr>\n",
       "      <th>14</th>\n",
       "      <td>job</td>\n",
       "    </tr>\n",
       "    <tr>\n",
       "      <th>15</th>\n",
       "      <td>job</td>\n",
       "    </tr>\n",
       "    <tr>\n",
       "      <th>16</th>\n",
       "      <td>job</td>\n",
       "    </tr>\n",
       "    <tr>\n",
       "      <th>17</th>\n",
       "      <td>job</td>\n",
       "    </tr>\n",
       "    <tr>\n",
       "      <th>18</th>\n",
       "      <td>job</td>\n",
       "    </tr>\n",
       "    <tr>\n",
       "      <th>19</th>\n",
       "      <td>job</td>\n",
       "    </tr>\n",
       "    <tr>\n",
       "      <th>20</th>\n",
       "      <td>eat</td>\n",
       "    </tr>\n",
       "    <tr>\n",
       "      <th>21</th>\n",
       "      <td>eat</td>\n",
       "    </tr>\n",
       "    <tr>\n",
       "      <th>22</th>\n",
       "      <td>bedtime</td>\n",
       "    </tr>\n",
       "    <tr>\n",
       "      <th>23</th>\n",
       "      <td>bedtime</td>\n",
       "    </tr>\n",
       "  </tbody>\n",
       "</table>\n",
       "</div>"
      ],
      "text/plain": [
       "    activity\n",
       "0      sleep\n",
       "1      sleep\n",
       "2      sleep\n",
       "3      sleep\n",
       "4      sleep\n",
       "5      sleep\n",
       "6      sleep\n",
       "7      sleep\n",
       "8      sleep\n",
       "9   internet\n",
       "10  internet\n",
       "11   hygiene\n",
       "12       job\n",
       "13       job\n",
       "14       job\n",
       "15       job\n",
       "16       job\n",
       "17       job\n",
       "18       job\n",
       "19       job\n",
       "20       eat\n",
       "21       eat\n",
       "22   bedtime\n",
       "23   bedtime"
      ]
     },
     "execution_count": 37,
     "metadata": {},
     "output_type": "execute_result"
    }
   ],
   "source": [
    "# list most common activity for each time interval\n",
    "common_activities = common_act(data_ts)\n",
    "common_activities"
   ]
  },
  {
   "cell_type": "code",
   "execution_count": null,
   "metadata": {},
   "outputs": [],
   "source": []
  }
 ],
 "metadata": {
  "kernelspec": {
   "display_name": "Python 3",
   "language": "python",
   "name": "python3"
  },
  "language_info": {
   "codemirror_mode": {
    "name": "ipython",
    "version": 3
   },
   "file_extension": ".py",
   "mimetype": "text/x-python",
   "name": "python",
   "nbconvert_exporter": "python",
   "pygments_lexer": "ipython3",
   "version": "3.6.5"
  }
 },
 "nbformat": 4,
 "nbformat_minor": 2
}
